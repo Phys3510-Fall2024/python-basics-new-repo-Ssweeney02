{
 "cells": [
  {
   "cell_type": "code",
   "execution_count": 18,
   "id": "54c3219b-399d-485e-9c07-0cd98ba2f4b6",
   "metadata": {},
   "outputs": [
    {
     "name": "stdout",
     "output_type": "stream",
     "text": [
      "1.0\n",
      "Conversion factor: 1\n",
      "Is inverse relationship: True\n",
      "Conversion factor: ('THz', 'ps')\n",
      "Conversion factor: 29980000000.0\n",
      "Is inverse relationship: False\n",
      "Conversion factor: ('THz', 'cm-1')\n",
      "Conversion factor: 2.998e+17\n",
      "Is inverse relationship: True\n",
      "Conversion factor: ('THz', 'nm')\n"
     ]
    }
   ],
   "source": [
    "import numpy as np\n",
    "\n",
    "# Speed of light constants\n",
    "c_cm_per_s = 2.998e10  # Speed of light in cm/s\n",
    "c_nm_per_s = 2.998e17  # Speed of light in nm/s\n",
    "\n",
    "\n",
    "\n",
    "frequency_thz = 1.0  # Terahertz (THz)\n",
    "period_ps = 1 / frequency_thz  # Picoseconds (ps)\n",
    "wavenumber_cm_1 = 2 * np.pi * frequency_thz / c_cm_per_s  # Inverse centimeters (cm⁻¹)\n",
    "wavelength_nm = c_nm_per_s / frequency_thz  # Nanometers (nm)\n",
    "print(period_ps)\n",
    "\n",
    "# Conversion factors and inverse relationship flag\n",
    "conversion_factors = {\n",
    "    (\"THz\", \"ps\"): (1, True),                # Linear Frequency to Period (inverse; T=1/f)\n",
    "    (\"THz\", \"cm-1\"): (c_cm_per_s , False),         # Linear Frequency to Linear Wavenumber (k = f/c)\n",
    "    (\"THz\", \"nm\"): (c_nm_per_s, True),           # Period to Linear Frequency (inverse; lambda = c/f)\n",
    "}\n",
    "\n",
    "conversion_key = (\"THz\", \"ps\")\n",
    "\n",
    "if conversion_key in conversion_factors:\n",
    "    factor, is_inverse = conversion_factors[conversion_key]\n",
    "    print(f\"Conversion factor: {factor}\")\n",
    "    print(f\"Is inverse relationship: {is_inverse}\")\n",
    "else:\n",
    "    print(\"Conversion not supported.\")\n",
    "   # Example of printing a string directly\n",
    "print(\"Conversion factor: ('THz', 'ps')\")\n",
    "\n",
    "conversion_key = (\"THz\", \"cm-1\")\n",
    "\n",
    "if conversion_key in conversion_factors:\n",
    "    factor, is_inverse = conversion_factors[conversion_key]\n",
    "    print(f\"Conversion factor: {factor}\")\n",
    "    print(f\"Is inverse relationship: {is_inverse}\")\n",
    "else:\n",
    "    print(\"Conversion not supported.\")\n",
    "   # Example of printing a string directly\n",
    "print(\"Conversion factor: ('THz', 'cm-1')\")\n",
    "\n",
    "conversion_key = (\"THz\", \"nm\")\n",
    "\n",
    "if conversion_key in conversion_factors:\n",
    "    factor, is_inverse = conversion_factors[conversion_key]\n",
    "    print(f\"Conversion factor: {factor}\")\n",
    "    print(f\"Is inverse relationship: {is_inverse}\")\n",
    "else:\n",
    "    print(\"Conversion not supported.\")\n",
    "   # Example of printing a string directly\n",
    "print(\"Conversion factor: ('THz', 'nm')\")\n"
   ]
  },
  {
   "cell_type": "code",
   "execution_count": null,
   "id": "3a7d3dfb-763e-4cdf-b6de-5c6bfe973c04",
   "metadata": {},
   "outputs": [],
   "source": [
    "terahertz (Frequency)=T"
   ]
  }
 ],
 "metadata": {
  "kernelspec": {
   "display_name": "Python 3 (ipykernel)",
   "language": "python",
   "name": "python3"
  },
  "language_info": {
   "codemirror_mode": {
    "name": "ipython",
    "version": 3
   },
   "file_extension": ".py",
   "mimetype": "text/x-python",
   "name": "python",
   "nbconvert_exporter": "python",
   "pygments_lexer": "ipython3",
   "version": "3.9.19"
  }
 },
 "nbformat": 4,
 "nbformat_minor": 5
}
